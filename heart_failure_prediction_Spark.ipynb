{
 "cells": [
  {
   "cell_type": "markdown",
   "metadata": {},
   "source": [
    "# Heart Failure Dataset\n",
    "\n",
    "Cardiovascular diseases (CVDs) are the number 1 cause of death globally, taking an estimated 17.9 million lives each year, which accounts for 31% of all deaths worlwide.\n",
    "Heart failure is a common event caused by CVDs and this dataset contains 12 features that can be used to predict mortality by heart failure.\n",
    "\n",
    "Description :\n",
    "\n",
    "+ `age`: Age\n",
    "+ `anaemia`: Decrease of red blood cells or hemoglobin (boolean)\n",
    "+ `creatinine_phosphokinase`: Level of the CPK enzyme in the blood (mcg/L)\n",
    "+ `diabetes`: If the patient has diabetes (boolean)\n",
    "+ `ejection_fraction`: Percentage of blood leaving the heart at each contraction (percentage)\n",
    "+ `high_blood_pressure`: If the patient has hypertension (boolean)\n",
    "+ `platelets`: Platelets in the blood (kiloplatelets/mL)\n",
    "+ `serum_creatinine`: Level of serum creatinine in the blood (mg/dL)\n",
    "+ `serum_sodium`: Level of serum sodium in the blood (mEq/L)\n",
    "+ `sex`: Woman or man (binary)\n",
    "+ `smoking`: smoking (binary)\n",
    "+ `time` :\n",
    "+ `DEATH_EVENT`: death (binary, target variable)"
   ]
  },
  {
   "cell_type": "code",
   "execution_count": 1,
   "metadata": {},
   "outputs": [],
   "source": [
    "import findspark\n",
    "findspark.init()\n",
    "import matplotlib.pyplot as plt\n",
    "import seaborn as sns\n",
    "from pyspark import SparkConf, SparkContext\n",
    "from pyspark.sql import SparkSession\n",
    "import pyspark.sql.functions as F\n",
    "from pyspark.sql.types import FloatType, IntegerType\n",
    "from pyspark.ml.feature import StringIndexer, VectorAssembler, StandardScaler\n",
    "from pyspark.ml import Pipeline\n",
    "from pyspark.ml.classification import DecisionTreeClassifier, LogisticRegression\n",
    "from pyspark.ml.evaluation import BinaryClassificationEvaluator"
   ]
  },
  {
   "cell_type": "code",
   "execution_count": 2,
   "metadata": {},
   "outputs": [],
   "source": [
    "spark = (SparkSession.builder \n",
    "         .master(\"local\") \n",
    "         .appName(\"Heart Failure App\") \n",
    "         .getOrCreate())\n",
    "\n",
    "sc = spark.sparkContext"
   ]
  },
  {
   "cell_type": "markdown",
   "metadata": {},
   "source": [
    "## Data exploration"
   ]
  },
  {
   "cell_type": "code",
   "execution_count": 3,
   "metadata": {},
   "outputs": [
    {
     "name": "stdout",
     "output_type": "stream",
     "text": [
      "root\n",
      " |-- age: string (nullable = true)\n",
      " |-- anaemia: string (nullable = true)\n",
      " |-- creatinine_phosphokinase: string (nullable = true)\n",
      " |-- diabetes: string (nullable = true)\n",
      " |-- ejection_fraction: string (nullable = true)\n",
      " |-- high_blood_pressure: string (nullable = true)\n",
      " |-- platelets: string (nullable = true)\n",
      " |-- serum_creatinine: string (nullable = true)\n",
      " |-- serum_sodium: string (nullable = true)\n",
      " |-- sex: string (nullable = true)\n",
      " |-- smoking: string (nullable = true)\n",
      " |-- time: string (nullable = true)\n",
      " |-- DEATH_EVENT: string (nullable = true)\n",
      "\n"
     ]
    }
   ],
   "source": [
    "data = spark.read.csv('heart_failure.csv', header=True)\n",
    "data.printSchema()"
   ]
  },
  {
   "cell_type": "code",
   "execution_count": 4,
   "metadata": {},
   "outputs": [
    {
     "data": {
      "text/plain": [
       "[Row(age='75', anaemia='0', creatinine_phosphokinase='582', diabetes='0', ejection_fraction='20', high_blood_pressure='1', platelets='265000', serum_creatinine='1.9', serum_sodium='130', sex='1', smoking='0', time='4', DEATH_EVENT='1'),\n",
       " Row(age='55', anaemia='0', creatinine_phosphokinase='7861', diabetes='0', ejection_fraction='38', high_blood_pressure='0', platelets='263358.03', serum_creatinine='1.1', serum_sodium='136', sex='1', smoking='0', time='6', DEATH_EVENT='1'),\n",
       " Row(age='65', anaemia='0', creatinine_phosphokinase='146', diabetes='0', ejection_fraction='20', high_blood_pressure='0', platelets='162000', serum_creatinine='1.3', serum_sodium='129', sex='1', smoking='1', time='7', DEATH_EVENT='1'),\n",
       " Row(age='50', anaemia='1', creatinine_phosphokinase='111', diabetes='0', ejection_fraction='20', high_blood_pressure='0', platelets='210000', serum_creatinine='1.9', serum_sodium='137', sex='1', smoking='0', time='7', DEATH_EVENT='1'),\n",
       " Row(age='65', anaemia='1', creatinine_phosphokinase='160', diabetes='1', ejection_fraction='20', high_blood_pressure='0', platelets='327000', serum_creatinine='2.7', serum_sodium='116', sex='0', smoking='0', time='8', DEATH_EVENT='1')]"
      ]
     },
     "execution_count": 4,
     "metadata": {},
     "output_type": "execute_result"
    }
   ],
   "source": [
    "data.take(5)"
   ]
  },
  {
   "cell_type": "code",
   "execution_count": 5,
   "metadata": {},
   "outputs": [
    {
     "data": {
      "text/plain": [
       "299"
      ]
     },
     "execution_count": 5,
     "metadata": {},
     "output_type": "execute_result"
    }
   ],
   "source": [
    "data.count()"
   ]
  },
  {
   "cell_type": "code",
   "execution_count": 6,
   "metadata": {},
   "outputs": [
    {
     "data": {
      "text/plain": [
       "1"
      ]
     },
     "execution_count": 6,
     "metadata": {},
     "output_type": "execute_result"
    }
   ],
   "source": [
    "data.rdd.getNumPartitions()"
   ]
  },
  {
   "cell_type": "code",
   "execution_count": 7,
   "metadata": {},
   "outputs": [
    {
     "data": {
      "text/html": [
       "<div>\n",
       "<style scoped>\n",
       "    .dataframe tbody tr th:only-of-type {\n",
       "        vertical-align: middle;\n",
       "    }\n",
       "\n",
       "    .dataframe tbody tr th {\n",
       "        vertical-align: top;\n",
       "    }\n",
       "\n",
       "    .dataframe thead th {\n",
       "        text-align: right;\n",
       "    }\n",
       "</style>\n",
       "<table border=\"1\" class=\"dataframe\">\n",
       "  <thead>\n",
       "    <tr style=\"text-align: right;\">\n",
       "      <th></th>\n",
       "      <th>age</th>\n",
       "      <th>anaemia</th>\n",
       "      <th>creatinine_phosphokinase</th>\n",
       "      <th>diabetes</th>\n",
       "      <th>ejection_fraction</th>\n",
       "      <th>high_blood_pressure</th>\n",
       "      <th>platelets</th>\n",
       "      <th>serum_creatinine</th>\n",
       "      <th>serum_sodium</th>\n",
       "      <th>sex</th>\n",
       "      <th>smoking</th>\n",
       "      <th>time</th>\n",
       "      <th>DEATH_EVENT</th>\n",
       "    </tr>\n",
       "  </thead>\n",
       "  <tbody>\n",
       "    <tr>\n",
       "      <th>0</th>\n",
       "      <td>75</td>\n",
       "      <td>0</td>\n",
       "      <td>582</td>\n",
       "      <td>0</td>\n",
       "      <td>20</td>\n",
       "      <td>1</td>\n",
       "      <td>265000</td>\n",
       "      <td>1.9</td>\n",
       "      <td>130</td>\n",
       "      <td>1</td>\n",
       "      <td>0</td>\n",
       "      <td>4</td>\n",
       "      <td>1</td>\n",
       "    </tr>\n",
       "    <tr>\n",
       "      <th>1</th>\n",
       "      <td>55</td>\n",
       "      <td>0</td>\n",
       "      <td>7861</td>\n",
       "      <td>0</td>\n",
       "      <td>38</td>\n",
       "      <td>0</td>\n",
       "      <td>263358.03</td>\n",
       "      <td>1.1</td>\n",
       "      <td>136</td>\n",
       "      <td>1</td>\n",
       "      <td>0</td>\n",
       "      <td>6</td>\n",
       "      <td>1</td>\n",
       "    </tr>\n",
       "    <tr>\n",
       "      <th>2</th>\n",
       "      <td>65</td>\n",
       "      <td>0</td>\n",
       "      <td>146</td>\n",
       "      <td>0</td>\n",
       "      <td>20</td>\n",
       "      <td>0</td>\n",
       "      <td>162000</td>\n",
       "      <td>1.3</td>\n",
       "      <td>129</td>\n",
       "      <td>1</td>\n",
       "      <td>1</td>\n",
       "      <td>7</td>\n",
       "      <td>1</td>\n",
       "    </tr>\n",
       "    <tr>\n",
       "      <th>3</th>\n",
       "      <td>50</td>\n",
       "      <td>1</td>\n",
       "      <td>111</td>\n",
       "      <td>0</td>\n",
       "      <td>20</td>\n",
       "      <td>0</td>\n",
       "      <td>210000</td>\n",
       "      <td>1.9</td>\n",
       "      <td>137</td>\n",
       "      <td>1</td>\n",
       "      <td>0</td>\n",
       "      <td>7</td>\n",
       "      <td>1</td>\n",
       "    </tr>\n",
       "    <tr>\n",
       "      <th>4</th>\n",
       "      <td>65</td>\n",
       "      <td>1</td>\n",
       "      <td>160</td>\n",
       "      <td>1</td>\n",
       "      <td>20</td>\n",
       "      <td>0</td>\n",
       "      <td>327000</td>\n",
       "      <td>2.7</td>\n",
       "      <td>116</td>\n",
       "      <td>0</td>\n",
       "      <td>0</td>\n",
       "      <td>8</td>\n",
       "      <td>1</td>\n",
       "    </tr>\n",
       "  </tbody>\n",
       "</table>\n",
       "</div>"
      ],
      "text/plain": [
       "  age anaemia creatinine_phosphokinase diabetes ejection_fraction  \\\n",
       "0  75       0                      582        0                20   \n",
       "1  55       0                     7861        0                38   \n",
       "2  65       0                      146        0                20   \n",
       "3  50       1                      111        0                20   \n",
       "4  65       1                      160        1                20   \n",
       "\n",
       "  high_blood_pressure  platelets serum_creatinine serum_sodium sex smoking  \\\n",
       "0                   1     265000              1.9          130   1       0   \n",
       "1                   0  263358.03              1.1          136   1       0   \n",
       "2                   0     162000              1.3          129   1       1   \n",
       "3                   0     210000              1.9          137   1       0   \n",
       "4                   0     327000              2.7          116   0       0   \n",
       "\n",
       "  time DEATH_EVENT  \n",
       "0    4           1  \n",
       "1    6           1  \n",
       "2    7           1  \n",
       "3    7           1  \n",
       "4    8           1  "
      ]
     },
     "execution_count": 7,
     "metadata": {},
     "output_type": "execute_result"
    }
   ],
   "source": [
    "pd_data = data.limit(5).toPandas()\n",
    "pd_data"
   ]
  },
  {
   "cell_type": "code",
   "execution_count": 8,
   "metadata": {},
   "outputs": [],
   "source": [
    "data = (data\n",
    "        .withColumn('age', data['age'].cast(FloatType()))\n",
    "        .withColumn('anaemia', data['anaemia'].cast(IntegerType()))\n",
    "        .withColumn('creatinine_phosphokinase', data['creatinine_phosphokinase'].cast(FloatType()))\n",
    "        .withColumn('diabetes', data['diabetes'].cast(IntegerType()))\n",
    "        .withColumn('ejection_fraction', data['ejection_fraction'].cast(FloatType()))\n",
    "        .withColumn('high_blood_pressure', data['high_blood_pressure'].cast(IntegerType()))\n",
    "        .withColumn('platelets', data['platelets'].cast(FloatType()))\n",
    "        .withColumn('serum_creatinine', data['serum_creatinine'].cast(FloatType()))\n",
    "        .withColumn('serum_sodium', data['serum_sodium'].cast(FloatType()))\n",
    "        .withColumn('sex', data['sex'].cast(IntegerType()))\n",
    "        .withColumn('smoking', data['smoking'].cast(IntegerType()))\n",
    "        .withColumn('time', data['time'].cast(FloatType()))\n",
    "        .withColumn('DEATH_EVENT', data['DEATH_EVENT'].cast(IntegerType()))\n",
    "       )"
   ]
  },
  {
   "cell_type": "code",
   "execution_count": 9,
   "metadata": {},
   "outputs": [
    {
     "name": "stdout",
     "output_type": "stream",
     "text": [
      "root\n",
      " |-- age: float (nullable = true)\n",
      " |-- anaemia: integer (nullable = true)\n",
      " |-- creatinine_phosphokinase: float (nullable = true)\n",
      " |-- diabetes: integer (nullable = true)\n",
      " |-- ejection_fraction: float (nullable = true)\n",
      " |-- high_blood_pressure: integer (nullable = true)\n",
      " |-- platelets: float (nullable = true)\n",
      " |-- serum_creatinine: float (nullable = true)\n",
      " |-- serum_sodium: float (nullable = true)\n",
      " |-- sex: integer (nullable = true)\n",
      " |-- smoking: integer (nullable = true)\n",
      " |-- time: float (nullable = true)\n",
      " |-- DEATH_EVENT: integer (nullable = true)\n",
      "\n"
     ]
    }
   ],
   "source": [
    "data.printSchema()"
   ]
  },
  {
   "cell_type": "code",
   "execution_count": 10,
   "metadata": {},
   "outputs": [],
   "source": [
    "def show_na(df):\n",
    "    missing_count = []\n",
    "\n",
    "    for column_name in df.columns:\n",
    "        rows_with_missing = df.where(F.col(column_name).isNull())\n",
    "        missing_count.append(rows_with_missing.count())\n",
    "\n",
    "    return dict(zip(df.columns, missing_count))"
   ]
  },
  {
   "cell_type": "code",
   "execution_count": 11,
   "metadata": {},
   "outputs": [
    {
     "data": {
      "text/plain": [
       "{'age': 0,\n",
       " 'anaemia': 0,\n",
       " 'creatinine_phosphokinase': 0,\n",
       " 'diabetes': 0,\n",
       " 'ejection_fraction': 0,\n",
       " 'high_blood_pressure': 0,\n",
       " 'platelets': 0,\n",
       " 'serum_creatinine': 0,\n",
       " 'serum_sodium': 0,\n",
       " 'sex': 0,\n",
       " 'smoking': 0,\n",
       " 'time': 0,\n",
       " 'DEATH_EVENT': 0}"
      ]
     },
     "execution_count": 11,
     "metadata": {},
     "output_type": "execute_result"
    }
   ],
   "source": [
    "show_na(data)"
   ]
  },
  {
   "cell_type": "markdown",
   "metadata": {},
   "source": [
    "no missing values"
   ]
  },
  {
   "cell_type": "code",
   "execution_count": 12,
   "metadata": {},
   "outputs": [
    {
     "name": "stdout",
     "output_type": "stream",
     "text": [
      "+----+-------+------------------------+--------+-----------------+-------------------+---------+----------------+------------+---+-------+----+-----------+\n",
      "|age |anaemia|creatinine_phosphokinase|diabetes|ejection_fraction|high_blood_pressure|platelets|serum_creatinine|serum_sodium|sex|smoking|time|DEATH_EVENT|\n",
      "+----+-------+------------------------+--------+-----------------+-------------------+---------+----------------+------------+---+-------+----+-----------+\n",
      "|75.0|0      |582.0                   |0       |20.0             |1                  |265000.0 |1.9             |130.0       |1  |0      |4.0 |1          |\n",
      "|55.0|0      |7861.0                  |0       |38.0             |0                  |263358.03|1.1             |136.0       |1  |0      |6.0 |1          |\n",
      "|65.0|0      |146.0                   |0       |20.0             |0                  |162000.0 |1.3             |129.0       |1  |1      |7.0 |1          |\n",
      "|50.0|1      |111.0                   |0       |20.0             |0                  |210000.0 |1.9             |137.0       |1  |0      |7.0 |1          |\n",
      "|65.0|1      |160.0                   |1       |20.0             |0                  |327000.0 |2.7             |116.0       |0  |0      |8.0 |1          |\n",
      "+----+-------+------------------------+--------+-----------------+-------------------+---------+----------------+------------+---+-------+----+-----------+\n",
      "only showing top 5 rows\n",
      "\n"
     ]
    }
   ],
   "source": [
    "data.show(5, False)"
   ]
  },
  {
   "cell_type": "code",
   "execution_count": 13,
   "metadata": {},
   "outputs": [
    {
     "name": "stdout",
     "output_type": "stream",
     "text": [
      "+-----------+-----+\n",
      "|DEATH_EVENT|count|\n",
      "+-----------+-----+\n",
      "|          1|   96|\n",
      "|          0|  203|\n",
      "+-----------+-----+\n",
      "\n",
      "+-------+-----+\n",
      "|anaemia|count|\n",
      "+-------+-----+\n",
      "|      1|  129|\n",
      "|      0|  170|\n",
      "+-------+-----+\n",
      "\n",
      "+--------+-----+\n",
      "|diabetes|count|\n",
      "+--------+-----+\n",
      "|       1|  125|\n",
      "|       0|  174|\n",
      "+--------+-----+\n",
      "\n",
      "+-------------------+-----+\n",
      "|high_blood_pressure|count|\n",
      "+-------------------+-----+\n",
      "|                  1|  105|\n",
      "|                  0|  194|\n",
      "+-------------------+-----+\n",
      "\n",
      "+---+-----+\n",
      "|sex|count|\n",
      "+---+-----+\n",
      "|  1|  194|\n",
      "|  0|  105|\n",
      "+---+-----+\n",
      "\n"
     ]
    }
   ],
   "source": [
    "categorical_columns = ['DEATH_EVENT', 'anaemia',\n",
    "                      'diabetes', 'high_blood_pressure',\n",
    "                      'sex']\n",
    "\n",
    "for column in categorical_columns:\n",
    "    data.groupBy(column).count().show()"
   ]
  },
  {
   "cell_type": "code",
   "execution_count": 14,
   "metadata": {
    "scrolled": true
   },
   "outputs": [
    {
     "data": {
      "image/png": "[encoded data removed]",
      "text/plain": [
       "<Figure size 432x288 with 1 Axes>"
      ]
     },
     "metadata": {
      "needs_background": "light"
     },
     "output_type": "display_data"
    },
    {
     "data": {
      "image/png": "[encoded data removed]",
      "text/plain": [
       "<Figure size 432x288 with 1 Axes>"
      ]
     },
     "metadata": {
      "needs_background": "light"
     },
     "output_type": "display_data"
    },
    {
     "data": {
      "image/png": "[encoded data removed]",
      "text/plain": [
       "<Figure size 432x288 with 1 Axes>"
      ]
     },
     "metadata": {
      "needs_background": "light"
     },
     "output_type": "display_data"
    },
    {
     "data": {
      "image/png": "[encoded data removed]",
      "text/plain": [
       "<Figure size 432x288 with 1 Axes>"
      ]
     },
     "metadata": {
      "needs_background": "light"
     },
     "output_type": "display_data"
    },
    {
     "data": {
      "image/png": "[encoded data removed]",
      "text/plain": [
       "<Figure size 432x288 with 1 Axes>"
      ]
     },
     "metadata": {
      "needs_background": "light"
     },
     "output_type": "display_data"
    }
   ],
   "source": [
    "for column in categorical_columns:\n",
    "    data.groupBy(column).count().toPandas().plot.bar(x=column, y='count')"
   ]
  },
  {
   "cell_type": "markdown",
   "metadata": {},
   "source": [
    "imbalanced data for target variable"
   ]
  },
  {
   "cell_type": "code",
   "execution_count": 15,
   "metadata": {},
   "outputs": [
    {
     "data": {
      "text/plain": [
       "[Row(age=55.0, anaemia=0, creatinine_phosphokinase=7861.0, diabetes=0, ejection_fraction=38.0, high_blood_pressure=0, platelets=263358.03125, serum_creatinine=1.100000023841858, serum_sodium=136.0, sex=1, smoking=0, time=6.0, DEATH_EVENT=1),\n",
       " Row(age=45.0, anaemia=0, creatinine_phosphokinase=7702.0, diabetes=1, ejection_fraction=25.0, high_blood_pressure=1, platelets=390000.0, serum_creatinine=1.0, serum_sodium=139.0, sex=1, smoking=0, time=60.0, DEATH_EVENT=1),\n",
       " Row(age=85.0, anaemia=0, creatinine_phosphokinase=5882.0, diabetes=0, ejection_fraction=35.0, high_blood_pressure=0, platelets=243000.0, serum_creatinine=1.0, serum_sodium=132.0, sex=1, smoking=1, time=72.0, DEATH_EVENT=1),\n",
       " Row(age=42.0, anaemia=0, creatinine_phosphokinase=5209.0, diabetes=0, ejection_fraction=30.0, high_blood_pressure=0, platelets=226000.0, serum_creatinine=1.0, serum_sodium=140.0, sex=1, smoking=1, time=87.0, DEATH_EVENT=0),\n",
       " Row(age=81.0, anaemia=0, creatinine_phosphokinase=4540.0, diabetes=0, ejection_fraction=35.0, high_blood_pressure=0, platelets=231000.0, serum_creatinine=1.1799999475479126, serum_sodium=137.0, sex=1, smoking=1, time=107.0, DEATH_EVENT=0)]"
      ]
     },
     "execution_count": 15,
     "metadata": {},
     "output_type": "execute_result"
    }
   ],
   "source": [
    "data.sort(data['creatinine_phosphokinase'].desc()).take(5)"
   ]
  },
  {
   "cell_type": "code",
   "execution_count": 16,
   "metadata": {
    "scrolled": true
   },
   "outputs": [
    {
     "data": {
      "image/png": "[encoded data removed]",
      "text/plain": [
       "<Figure size 432x288 with 1 Axes>"
      ]
     },
     "metadata": {
      "needs_background": "light"
     },
     "output_type": "display_data"
    },
    {
     "data": {
      "image/png": "[encoded data removed]",
      "text/plain": [
       "<Figure size 432x288 with 1 Axes>"
      ]
     },
     "metadata": {
      "needs_background": "light"
     },
     "output_type": "display_data"
    },
    {
     "data": {
      "image/png": "[encoded data removed]",
      "text/plain": [
       "<Figure size 432x288 with 1 Axes>"
      ]
     },
     "metadata": {
      "needs_background": "light"
     },
     "output_type": "display_data"
    },
    {
     "data": {
      "image/png": "[encoded data removed]",
      "text/plain": [
       "<Figure size 432x288 with 1 Axes>"
      ]
     },
     "metadata": {
      "needs_background": "light"
     },
     "output_type": "display_data"
    },
    {
     "data": {
      "image/png": "[encoded data removed]",
      "text/plain": [
       "<Figure size 432x288 with 1 Axes>"
      ]
     },
     "metadata": {
      "needs_background": "light"
     },
     "output_type": "display_data"
    },
    {
     "data": {
      "image/png": "[encoded data removed]",
      "text/plain": [
       "<Figure size 432x288 with 1 Axes>"
      ]
     },
     "metadata": {
      "needs_background": "light"
     },
     "output_type": "display_data"
    },
    {
     "data": {
      "image/png": "[encoded data removed]",
      "text/plain": [
       "<Figure size 432x288 with 1 Axes>"
      ]
     },
     "metadata": {
      "needs_background": "light"
     },
     "output_type": "display_data"
    }
   ],
   "source": [
    "for column, dtype in data.dtypes:\n",
    "    if dtype == 'float':\n",
    "        sns.distplot(data.toPandas()[column])\n",
    "        plt.show()"
   ]
  },
  {
   "cell_type": "markdown",
   "metadata": {},
   "source": [
    "## Spark MLlib "
   ]
  },
  {
   "cell_type": "code",
   "execution_count": 17,
   "metadata": {},
   "outputs": [
    {
     "data": {
      "text/plain": [
       "['age',\n",
       " 'anaemia',\n",
       " 'creatinine_phosphokinase',\n",
       " 'diabetes',\n",
       " 'ejection_fraction',\n",
       " 'high_blood_pressure',\n",
       " 'platelets',\n",
       " 'serum_creatinine',\n",
       " 'serum_sodium',\n",
       " 'sex',\n",
       " 'smoking',\n",
       " 'time']"
      ]
     },
     "execution_count": 17,
     "metadata": {},
     "output_type": "execute_result"
    }
   ],
   "source": [
    "features = data.columns[:-1]\n",
    "features"
   ]
  },
  {
   "cell_type": "code",
   "execution_count": 18,
   "metadata": {},
   "outputs": [
    {
     "name": "stdout",
     "output_type": "stream",
     "text": [
      "+----+-------+------------------------+--------+-----------------+-------------------+---------+----------------+------------+---+-------+----+-----------+--------------------+\n",
      "| age|anaemia|creatinine_phosphokinase|diabetes|ejection_fraction|high_blood_pressure|platelets|serum_creatinine|serum_sodium|sex|smoking|time|DEATH_EVENT|            features|\n",
      "+----+-------+------------------------+--------+-----------------+-------------------+---------+----------------+------------+---+-------+----+-----------+--------------------+\n",
      "|75.0|      0|                   582.0|       0|             20.0|                  1| 265000.0|             1.9|       130.0|  1|      0| 4.0|          1|[75.0,0.0,582.0,0...|\n",
      "|55.0|      0|                  7861.0|       0|             38.0|                  0|263358.03|             1.1|       136.0|  1|      0| 6.0|          1|[55.0,0.0,7861.0,...|\n",
      "|65.0|      0|                   146.0|       0|             20.0|                  0| 162000.0|             1.3|       129.0|  1|      1| 7.0|          1|[65.0,0.0,146.0,0...|\n",
      "+----+-------+------------------------+--------+-----------------+-------------------+---------+----------------+------------+---+-------+----+-----------+--------------------+\n",
      "only showing top 3 rows\n",
      "\n"
     ]
    }
   ],
   "source": [
    "assembler = VectorAssembler(inputCols=features, outputCol=\"features\")\n",
    "assembler.transform(data).show(3)"
   ]
  },
  {
   "cell_type": "code",
   "execution_count": 19,
   "metadata": {},
   "outputs": [],
   "source": [
    "#the features don't need scaling because we are using decision trees\n",
    "clf = DecisionTreeClassifier(featuresCol='features', labelCol='DEATH_EVENT')\n",
    "pipeline = Pipeline(stages=[assembler, clf])\n",
    "X_train, X_test = data.randomSplit([0.7, 0.3])"
   ]
  },
  {
   "cell_type": "code",
   "execution_count": 20,
   "metadata": {},
   "outputs": [],
   "source": [
    "model = pipeline.fit(X_train)\n",
    "pred = model.transform(X_test)"
   ]
  },
  {
   "cell_type": "code",
   "execution_count": 21,
   "metadata": {},
   "outputs": [
    {
     "name": "stdout",
     "output_type": "stream",
     "text": [
      "+----------+-----------+\n",
      "|prediction|DEATH_EVENT|\n",
      "+----------+-----------+\n",
      "|       0.0|          0|\n",
      "|       1.0|          0|\n",
      "|       0.0|          0|\n",
      "|       0.0|          0|\n",
      "|       0.0|          0|\n",
      "|       0.0|          0|\n",
      "|       1.0|          1|\n",
      "|       0.0|          1|\n",
      "|       1.0|          1|\n",
      "|       0.0|          0|\n",
      "|       0.0|          1|\n",
      "|       0.0|          0|\n",
      "|       0.0|          1|\n",
      "|       0.0|          1|\n",
      "|       0.0|          0|\n",
      "|       0.0|          1|\n",
      "|       0.0|          0|\n",
      "|       0.0|          0|\n",
      "|       0.0|          1|\n",
      "|       0.0|          0|\n",
      "+----------+-----------+\n",
      "only showing top 20 rows\n",
      "\n"
     ]
    }
   ],
   "source": [
    "pred.select(pred['prediction'], pred['DEATH_EVENT']).show()"
   ]
  },
  {
   "cell_type": "code",
   "execution_count": 22,
   "metadata": {},
   "outputs": [
    {
     "name": "stdout",
     "output_type": "stream",
     "text": [
      "the AUC score is 0.7834975369458127\n"
     ]
    }
   ],
   "source": [
    "evaluator = BinaryClassificationEvaluator(labelCol=\"DEATH_EVENT\",\n",
    "                                          rawPredictionCol=\"prediction\",\n",
    "                                          metricName='areaUnderROC')\n",
    "#we use auc because of class imbalance\n",
    "auc = evaluator.evaluate(pred)\n",
    "\n",
    "print(f\"the AUC score is {auc}\")"
   ]
  },
  {
   "cell_type": "code",
   "execution_count": 23,
   "metadata": {},
   "outputs": [
    {
     "name": "stdout",
     "output_type": "stream",
     "text": [
      "the AUC score is 0.9756157635467981\n"
     ]
    }
   ],
   "source": [
    "from pyspark.ml.classification import LogisticRegression\n",
    "from pyspark.ml.feature import StandardScaler\n",
    "columns_to_scale = ['age', 'creatinine_phosphokinase',\n",
    "                    'ejection_fraction', 'platelets',\n",
    "                    'serum_creatinine', 'serum_sodium','time']\n",
    "assembler_cat = VectorAssembler(inputCols=categorical_columns, outputCol=\"categorical_features\")\n",
    "assembler_cont = VectorAssembler(inputCols=columns_to_scale, outputCol=\"continuous_features\")\n",
    "scaler = StandardScaler(inputCol='continuous_features', outputCol='continuous_scaled')\n",
    "assembler2 = VectorAssembler(inputCols=['categorical_features', 'continuous_scaled'], outputCol='features')\n",
    "clf2 = LogisticRegression(featuresCol='features', labelCol='DEATH_EVENT')\n",
    "pipeline2 = Pipeline(stages=[assembler_cat, assembler_cont, scaler, assembler2, clf2])\n",
    "model2 = pipeline2.fit(X_train)\n",
    "pred2 = model2.transform(X_test)\n",
    "auc2 = evaluator.evaluate(pred2)\n",
    "print(f\"the AUC score is {auc2}\")"
   ]
  },
  {
   "cell_type": "markdown",
   "metadata": {},
   "source": [
    "+ The score is quite good for decision tree, we can improve it by using RandomForest for example\n",
    "+ the logistic regression has a very good score"
   ]
  }
 ],
 "metadata": {
  "kernelspec": {
   "display_name": "Python 3",
   "language": "python",
   "name": "python3"
  },
  "language_info": {
   "codemirror_mode": {
    "name": "ipython",
    "version": 3
   },
   "file_extension": ".py",
   "mimetype": "text/x-python",
   "name": "python",
   "nbconvert_exporter": "python",
   "pygments_lexer": "ipython3",
   "version": "3.7.2"
  }
 },
 "nbformat": 4,
 "nbformat_minor": 2
}
